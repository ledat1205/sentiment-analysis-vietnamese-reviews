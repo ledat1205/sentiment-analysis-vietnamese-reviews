{
 "cells": [
  {
   "cell_type": "code",
   "execution_count": 12,
   "id": "8430d975",
   "metadata": {},
   "outputs": [],
   "source": [
    "import os \n",
    "import py_vncorenlp"
   ]
  },
  {
   "cell_type": "code",
   "execution_count": 20,
   "id": "3355a61b",
   "metadata": {},
   "outputs": [
    {
     "data": {
      "text/plain": [
       "'F:\\\\sentiment-analysis-vietnamese-reviews\\\\vncore_model\\\\models'"
      ]
     },
     "execution_count": 20,
     "metadata": {},
     "output_type": "execute_result"
    }
   ],
   "source": [
    "os.path.join(os.path.abspath(''),'models')\n",
    "# py_vncorenlp.download_model(save_dir=os.path.join(os.path.abspath(''),'models'))"
   ]
  },
  {
   "cell_type": "code",
   "execution_count": 6,
   "id": "dacb5965",
   "metadata": {},
   "outputs": [
    {
     "ename": "Exception",
     "evalue": "Please download the VnCoreNLP model!",
     "output_type": "error",
     "traceback": [
      "\u001b[1;31m---------------------------------------------------------------------------\u001b[0m",
      "\u001b[1;31mException\u001b[0m                                 Traceback (most recent call last)",
      "Input \u001b[1;32mIn [6]\u001b[0m, in \u001b[0;36m<cell line: 1>\u001b[1;34m()\u001b[0m\n\u001b[1;32m----> 1\u001b[0m rdrsegmenter \u001b[38;5;241m=\u001b[39m \u001b[43mpy_vncorenlp\u001b[49m\u001b[38;5;241;43m.\u001b[39;49m\u001b[43mVnCoreNLP\u001b[49m\u001b[43m(\u001b[49m\u001b[43mannotators\u001b[49m\u001b[38;5;241;43m=\u001b[39;49m\u001b[43m[\u001b[49m\u001b[38;5;124;43m\"\u001b[39;49m\u001b[38;5;124;43mwseg\u001b[39;49m\u001b[38;5;124;43m\"\u001b[39;49m\u001b[43m]\u001b[49m\u001b[43m,\u001b[49m\u001b[43m \u001b[49m\u001b[43msave_dir\u001b[49m\u001b[38;5;241;43m=\u001b[39;49m\u001b[38;5;124;43m'\u001b[39;49m\u001b[38;5;124;43mvncore_model/\u001b[39;49m\u001b[38;5;124;43m'\u001b[39;49m\u001b[43m)\u001b[49m\n",
      "File \u001b[1;32m~\\miniconda3\\lib\\site-packages\\py_vncorenlp\\vncorenlp.py:48\u001b[0m, in \u001b[0;36mVnCoreNLP.__init__\u001b[1;34m(self, max_heap_size, annotators, save_dir)\u001b[0m\n\u001b[0;32m     46\u001b[0m     save_dir \u001b[38;5;241m=\u001b[39m save_dir[:\u001b[38;5;241m-\u001b[39m\u001b[38;5;241m1\u001b[39m]\n\u001b[0;32m     47\u001b[0m \u001b[38;5;28;01mif\u001b[39;00m os\u001b[38;5;241m.\u001b[39mpath\u001b[38;5;241m.\u001b[39misdir(save_dir \u001b[38;5;241m+\u001b[39m \u001b[38;5;124m\"\u001b[39m\u001b[38;5;124m/models\u001b[39m\u001b[38;5;124m\"\u001b[39m) \u001b[38;5;241m==\u001b[39m \u001b[38;5;28;01mFalse\u001b[39;00m \u001b[38;5;129;01mor\u001b[39;00m os\u001b[38;5;241m.\u001b[39mpath\u001b[38;5;241m.\u001b[39mexists(save_dir \u001b[38;5;241m+\u001b[39m \u001b[38;5;124m'\u001b[39m\u001b[38;5;124m/VnCoreNLP-1.2.jar\u001b[39m\u001b[38;5;124m'\u001b[39m) \u001b[38;5;241m==\u001b[39m \u001b[38;5;28;01mFalse\u001b[39;00m:\n\u001b[1;32m---> 48\u001b[0m     \u001b[38;5;28;01mraise\u001b[39;00m \u001b[38;5;167;01mException\u001b[39;00m(\u001b[38;5;124m\"\u001b[39m\u001b[38;5;124mPlease download the VnCoreNLP model!\u001b[39m\u001b[38;5;124m\"\u001b[39m)\n\u001b[0;32m     49\u001b[0m jnius_config\u001b[38;5;241m.\u001b[39madd_options(max_heap_size)\n\u001b[0;32m     50\u001b[0m \u001b[38;5;28mself\u001b[39m\u001b[38;5;241m.\u001b[39mcurrent_working_dir \u001b[38;5;241m=\u001b[39m os\u001b[38;5;241m.\u001b[39mgetcwd()\n",
      "\u001b[1;31mException\u001b[0m: Please download the VnCoreNLP model!"
     ]
    }
   ],
   "source": [
    "rdrsegmenter = py_vncorenlp.VnCoreNLP(annotators=[\"wseg\"], save_dir='vncore_model/')"
   ]
  },
  {
   "cell_type": "code",
   "execution_count": null,
   "id": "3952a02d",
   "metadata": {},
   "outputs": [],
   "source": []
  }
 ],
 "metadata": {
  "kernelspec": {
   "display_name": "Python 3 (ipykernel)",
   "language": "python",
   "name": "python3"
  },
  "language_info": {
   "codemirror_mode": {
    "name": "ipython",
    "version": 3
   },
   "file_extension": ".py",
   "mimetype": "text/x-python",
   "name": "python",
   "nbconvert_exporter": "python",
   "pygments_lexer": "ipython3",
   "version": "3.9.7"
  }
 },
 "nbformat": 4,
 "nbformat_minor": 5
}
