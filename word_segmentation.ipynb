{
  "nbformat": 4,
  "nbformat_minor": 0,
  "metadata": {
    "colab": {
      "provenance": []
    },
    "kernelspec": {
      "name": "python3",
      "display_name": "Python 3"
    },
    "language_info": {
      "name": "python"
    }
  },
  "cells": [
    {
      "cell_type": "code",
      "source": [
        "from google.colab import drive\n",
        "drive.mount('/content/drive')"
      ],
      "metadata": {
        "colab": {
          "base_uri": "https://localhost:8080/"
        },
        "id": "Roe77qQoacVX",
        "outputId": "4aae9a57-f257-40a5-f7c6-8ffca9b98ac4"
      },
      "execution_count": null,
      "outputs": [
        {
          "output_type": "stream",
          "name": "stdout",
          "text": [
            "Mounted at /content/drive\n"
          ]
        }
      ]
    },
    {
      "cell_type": "code",
      "source": [
        "!pip install -q py_vncorenlp"
      ],
      "metadata": {
        "id": "XzhJkoKRcnLq",
        "colab": {
          "base_uri": "https://localhost:8080/"
        },
        "outputId": "b2090c7f-57af-4f4a-daed-11b880b13301"
      },
      "execution_count": null,
      "outputs": [
        {
          "output_type": "stream",
          "name": "stdout",
          "text": [
            "  Preparing metadata (setup.py) ... \u001b[?25l\u001b[?25hdone\n",
            "\u001b[2K     \u001b[90m━━━━━━━━━━━━━━━━━━━━━━━━━━━━━━━━━━━━━━━━\u001b[0m \u001b[32m1.5/1.5 MB\u001b[0m \u001b[31m27.7 MB/s\u001b[0m eta \u001b[36m0:00:00\u001b[0m\n",
            "\u001b[?25h  Building wheel for py_vncorenlp (setup.py) ... \u001b[?25l\u001b[?25hdone\n"
          ]
        }
      ]
    },
    {
      "cell_type": "code",
      "source": [
        "import pandas as pd \n",
        "import py_vncorenlp"
      ],
      "metadata": {
        "id": "W0T5GOjQcauw"
      },
      "execution_count": null,
      "outputs": []
    },
    {
      "cell_type": "markdown",
      "source": [
        "#### Tách từ theo vncorenlp"
      ],
      "metadata": {
        "id": "Kv2RMATncKop"
      }
    },
    {
      "cell_type": "code",
      "source": [
        "clean_train_data = pd.read_csv('/content/drive/MyDrive/NLP/Phobert/data/clean_data.csv')"
      ],
      "metadata": {
        "id": "HZgGBR80jZY4"
      },
      "execution_count": null,
      "outputs": []
    },
    {
      "cell_type": "code",
      "source": [
        "py_vncorenlp.download_model(save_dir='./')\n",
        "rdrsegmenter = py_vncorenlp.VnCoreNLP(annotators=[\"wseg\"], save_dir='./')"
      ],
      "metadata": {
        "id": "fuxcr1CfdAZo"
      },
      "execution_count": null,
      "outputs": []
    },
    {
      "cell_type": "code",
      "source": [
        "def vncorenlp_seg(text):   \n",
        "    vncore_sentences = []\n",
        "    word_list = rdrsegmenter.word_segment(text)\n",
        "    vncore_sentences.append(' '.join(word_list))\n",
        "    return vncore_sentences"
      ],
      "metadata": {
        "id": "Hd5PyExYdJCh"
      },
      "execution_count": null,
      "outputs": []
    },
    {
      "cell_type": "code",
      "source": [
        "clean_train_data['comment'] = clean_train_data['comment'].apply(lambda x: vncorenlp_seg(str(x)))\n",
        "clean_train_data.to_csv('/content/drive/MyDrive/NLP/Phobert/data_seg/clean_data_vncore_seg.csv',index=False)"
      ],
      "metadata": {
        "id": "Psssl4K8da1l"
      },
      "execution_count": null,
      "outputs": []
    }
  ]
}